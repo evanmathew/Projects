{
 "cells": [
  {
   "cell_type": "code",
   "execution_count": 32,
   "metadata": {
    "_cell_guid": "b1076dfc-b9ad-4769-8c92-a6c4dae69d19",
    "_uuid": "8f2839f25d086af736a60e9eeb907d3b93b6e0e5",
    "execution": {
     "iopub.execute_input": "2023-08-07T12:05:56.214938Z",
     "iopub.status.busy": "2023-08-07T12:05:56.214446Z",
     "iopub.status.idle": "2023-08-07T12:05:56.254520Z",
     "shell.execute_reply": "2023-08-07T12:05:56.253425Z",
     "shell.execute_reply.started": "2023-08-07T12:05:56.214844Z"
    }
   },
   "outputs": [],
   "source": [
    "import numpy as np # linear algebra\n",
    "import pandas as pd # data processing, CSV file I/O (e.g. pd.read_csv)\n",
    "\n",
    "from sklearn.model_selection import train_test_split\n",
    "from sklearn.linear_model import LinearRegression\n",
    "from sklearn import metrics\n",
    "from sklearn.metrics import r2_score"
   ]
  },
  {
   "cell_type": "code",
   "execution_count": 3,
   "metadata": {
    "execution": {
     "iopub.execute_input": "2023-08-07T12:05:56.257077Z",
     "iopub.status.busy": "2023-08-07T12:05:56.256340Z",
     "iopub.status.idle": "2023-08-07T12:05:57.193445Z",
     "shell.execute_reply": "2023-08-07T12:05:57.192284Z",
     "shell.execute_reply.started": "2023-08-07T12:05:56.257045Z"
    }
   },
   "outputs": [],
   "source": [
    "import seaborn as sns\n",
    "import matplotlib.pyplot as plt\n",
    "\n",
    "plt.style.use('Solarize_Light2')"
   ]
  },
  {
   "cell_type": "code",
   "execution_count": 4,
   "metadata": {
    "execution": {
     "iopub.execute_input": "2023-08-07T12:05:57.195642Z",
     "iopub.status.busy": "2023-08-07T12:05:57.194744Z",
     "iopub.status.idle": "2023-08-07T12:05:58.303405Z",
     "shell.execute_reply": "2023-08-07T12:05:58.301965Z",
     "shell.execute_reply.started": "2023-08-07T12:05:57.195602Z"
    }
   },
   "outputs": [],
   "source": [
    "df = pd.read_csv('train.csv')"
   ]
  },
  {
   "cell_type": "code",
   "execution_count": 5,
   "metadata": {
    "execution": {
     "iopub.execute_input": "2023-08-07T12:05:58.305965Z",
     "iopub.status.busy": "2023-08-07T12:05:58.305499Z",
     "iopub.status.idle": "2023-08-07T12:05:58.337663Z",
     "shell.execute_reply": "2023-08-07T12:05:58.336421Z",
     "shell.execute_reply.started": "2023-08-07T12:05:58.305922Z"
    }
   },
   "outputs": [
    {
     "data": {
      "text/html": [
       "<div>\n",
       "<style scoped>\n",
       "    .dataframe tbody tr th:only-of-type {\n",
       "        vertical-align: middle;\n",
       "    }\n",
       "\n",
       "    .dataframe tbody tr th {\n",
       "        vertical-align: top;\n",
       "    }\n",
       "\n",
       "    .dataframe thead th {\n",
       "        text-align: right;\n",
       "    }\n",
       "</style>\n",
       "<table border=\"1\" class=\"dataframe\">\n",
       "  <thead>\n",
       "    <tr style=\"text-align: right;\">\n",
       "      <th></th>\n",
       "      <th>User_ID</th>\n",
       "      <th>Product_ID</th>\n",
       "      <th>Gender</th>\n",
       "      <th>Age</th>\n",
       "      <th>Occupation</th>\n",
       "      <th>City_Category</th>\n",
       "      <th>Stay_In_Current_City_Years</th>\n",
       "      <th>Marital_Status</th>\n",
       "      <th>Product_Category_1</th>\n",
       "      <th>Product_Category_2</th>\n",
       "      <th>Product_Category_3</th>\n",
       "      <th>Purchase</th>\n",
       "    </tr>\n",
       "  </thead>\n",
       "  <tbody>\n",
       "    <tr>\n",
       "      <th>0</th>\n",
       "      <td>1000001</td>\n",
       "      <td>P00069042</td>\n",
       "      <td>F</td>\n",
       "      <td>0-17</td>\n",
       "      <td>10</td>\n",
       "      <td>A</td>\n",
       "      <td>2</td>\n",
       "      <td>0</td>\n",
       "      <td>3</td>\n",
       "      <td>NaN</td>\n",
       "      <td>NaN</td>\n",
       "      <td>8370</td>\n",
       "    </tr>\n",
       "    <tr>\n",
       "      <th>1</th>\n",
       "      <td>1000001</td>\n",
       "      <td>P00248942</td>\n",
       "      <td>F</td>\n",
       "      <td>0-17</td>\n",
       "      <td>10</td>\n",
       "      <td>A</td>\n",
       "      <td>2</td>\n",
       "      <td>0</td>\n",
       "      <td>1</td>\n",
       "      <td>6.0</td>\n",
       "      <td>14.0</td>\n",
       "      <td>15200</td>\n",
       "    </tr>\n",
       "    <tr>\n",
       "      <th>2</th>\n",
       "      <td>1000001</td>\n",
       "      <td>P00087842</td>\n",
       "      <td>F</td>\n",
       "      <td>0-17</td>\n",
       "      <td>10</td>\n",
       "      <td>A</td>\n",
       "      <td>2</td>\n",
       "      <td>0</td>\n",
       "      <td>12</td>\n",
       "      <td>NaN</td>\n",
       "      <td>NaN</td>\n",
       "      <td>1422</td>\n",
       "    </tr>\n",
       "    <tr>\n",
       "      <th>3</th>\n",
       "      <td>1000001</td>\n",
       "      <td>P00085442</td>\n",
       "      <td>F</td>\n",
       "      <td>0-17</td>\n",
       "      <td>10</td>\n",
       "      <td>A</td>\n",
       "      <td>2</td>\n",
       "      <td>0</td>\n",
       "      <td>12</td>\n",
       "      <td>14.0</td>\n",
       "      <td>NaN</td>\n",
       "      <td>1057</td>\n",
       "    </tr>\n",
       "    <tr>\n",
       "      <th>4</th>\n",
       "      <td>1000002</td>\n",
       "      <td>P00285442</td>\n",
       "      <td>M</td>\n",
       "      <td>55+</td>\n",
       "      <td>16</td>\n",
       "      <td>C</td>\n",
       "      <td>4+</td>\n",
       "      <td>0</td>\n",
       "      <td>8</td>\n",
       "      <td>NaN</td>\n",
       "      <td>NaN</td>\n",
       "      <td>7969</td>\n",
       "    </tr>\n",
       "    <tr>\n",
       "      <th>5</th>\n",
       "      <td>1000003</td>\n",
       "      <td>P00193542</td>\n",
       "      <td>M</td>\n",
       "      <td>26-35</td>\n",
       "      <td>15</td>\n",
       "      <td>A</td>\n",
       "      <td>3</td>\n",
       "      <td>0</td>\n",
       "      <td>1</td>\n",
       "      <td>2.0</td>\n",
       "      <td>NaN</td>\n",
       "      <td>15227</td>\n",
       "    </tr>\n",
       "  </tbody>\n",
       "</table>\n",
       "</div>"
      ],
      "text/plain": [
       "   User_ID Product_ID Gender    Age  Occupation City_Category  \\\n",
       "0  1000001  P00069042      F   0-17          10             A   \n",
       "1  1000001  P00248942      F   0-17          10             A   \n",
       "2  1000001  P00087842      F   0-17          10             A   \n",
       "3  1000001  P00085442      F   0-17          10             A   \n",
       "4  1000002  P00285442      M    55+          16             C   \n",
       "5  1000003  P00193542      M  26-35          15             A   \n",
       "\n",
       "  Stay_In_Current_City_Years  Marital_Status  Product_Category_1  \\\n",
       "0                          2               0                   3   \n",
       "1                          2               0                   1   \n",
       "2                          2               0                  12   \n",
       "3                          2               0                  12   \n",
       "4                         4+               0                   8   \n",
       "5                          3               0                   1   \n",
       "\n",
       "   Product_Category_2  Product_Category_3  Purchase  \n",
       "0                 NaN                 NaN      8370  \n",
       "1                 6.0                14.0     15200  \n",
       "2                 NaN                 NaN      1422  \n",
       "3                14.0                 NaN      1057  \n",
       "4                 NaN                 NaN      7969  \n",
       "5                 2.0                 NaN     15227  "
      ]
     },
     "execution_count": 5,
     "metadata": {},
     "output_type": "execute_result"
    }
   ],
   "source": [
    "df.head(6)"
   ]
  },
  {
   "cell_type": "code",
   "execution_count": 6,
   "metadata": {
    "execution": {
     "iopub.execute_input": "2023-08-07T12:05:58.342188Z",
     "iopub.status.busy": "2023-08-07T12:05:58.341703Z",
     "iopub.status.idle": "2023-08-07T12:05:58.350220Z",
     "shell.execute_reply": "2023-08-07T12:05:58.348760Z",
     "shell.execute_reply.started": "2023-08-07T12:05:58.342147Z"
    }
   },
   "outputs": [
    {
     "data": {
      "text/plain": [
       "(550068, 12)"
      ]
     },
     "execution_count": 6,
     "metadata": {},
     "output_type": "execute_result"
    }
   ],
   "source": [
    "df.shape"
   ]
  },
  {
   "cell_type": "code",
   "execution_count": 7,
   "metadata": {
    "execution": {
     "iopub.execute_input": "2023-08-07T12:05:58.352679Z",
     "iopub.status.busy": "2023-08-07T12:05:58.352175Z",
     "iopub.status.idle": "2023-08-07T12:05:58.583901Z",
     "shell.execute_reply": "2023-08-07T12:05:58.582388Z",
     "shell.execute_reply.started": "2023-08-07T12:05:58.352630Z"
    }
   },
   "outputs": [
    {
     "data": {
      "text/html": [
       "<div>\n",
       "<style scoped>\n",
       "    .dataframe tbody tr th:only-of-type {\n",
       "        vertical-align: middle;\n",
       "    }\n",
       "\n",
       "    .dataframe tbody tr th {\n",
       "        vertical-align: top;\n",
       "    }\n",
       "\n",
       "    .dataframe thead th {\n",
       "        text-align: right;\n",
       "    }\n",
       "</style>\n",
       "<table border=\"1\" class=\"dataframe\">\n",
       "  <thead>\n",
       "    <tr style=\"text-align: right;\">\n",
       "      <th></th>\n",
       "      <th>User_ID</th>\n",
       "      <th>Occupation</th>\n",
       "      <th>Marital_Status</th>\n",
       "      <th>Product_Category_1</th>\n",
       "      <th>Product_Category_2</th>\n",
       "      <th>Product_Category_3</th>\n",
       "      <th>Purchase</th>\n",
       "    </tr>\n",
       "  </thead>\n",
       "  <tbody>\n",
       "    <tr>\n",
       "      <th>count</th>\n",
       "      <td>5.500680e+05</td>\n",
       "      <td>550068.000000</td>\n",
       "      <td>550068.000000</td>\n",
       "      <td>550068.000000</td>\n",
       "      <td>376430.000000</td>\n",
       "      <td>166821.000000</td>\n",
       "      <td>550068.000000</td>\n",
       "    </tr>\n",
       "    <tr>\n",
       "      <th>mean</th>\n",
       "      <td>1.003029e+06</td>\n",
       "      <td>8.076707</td>\n",
       "      <td>0.409653</td>\n",
       "      <td>5.404270</td>\n",
       "      <td>9.842329</td>\n",
       "      <td>12.668243</td>\n",
       "      <td>9263.968713</td>\n",
       "    </tr>\n",
       "    <tr>\n",
       "      <th>std</th>\n",
       "      <td>1.727592e+03</td>\n",
       "      <td>6.522660</td>\n",
       "      <td>0.491770</td>\n",
       "      <td>3.936211</td>\n",
       "      <td>5.086590</td>\n",
       "      <td>4.125338</td>\n",
       "      <td>5023.065394</td>\n",
       "    </tr>\n",
       "    <tr>\n",
       "      <th>min</th>\n",
       "      <td>1.000001e+06</td>\n",
       "      <td>0.000000</td>\n",
       "      <td>0.000000</td>\n",
       "      <td>1.000000</td>\n",
       "      <td>2.000000</td>\n",
       "      <td>3.000000</td>\n",
       "      <td>12.000000</td>\n",
       "    </tr>\n",
       "    <tr>\n",
       "      <th>25%</th>\n",
       "      <td>1.001516e+06</td>\n",
       "      <td>2.000000</td>\n",
       "      <td>0.000000</td>\n",
       "      <td>1.000000</td>\n",
       "      <td>5.000000</td>\n",
       "      <td>9.000000</td>\n",
       "      <td>5823.000000</td>\n",
       "    </tr>\n",
       "    <tr>\n",
       "      <th>50%</th>\n",
       "      <td>1.003077e+06</td>\n",
       "      <td>7.000000</td>\n",
       "      <td>0.000000</td>\n",
       "      <td>5.000000</td>\n",
       "      <td>9.000000</td>\n",
       "      <td>14.000000</td>\n",
       "      <td>8047.000000</td>\n",
       "    </tr>\n",
       "    <tr>\n",
       "      <th>75%</th>\n",
       "      <td>1.004478e+06</td>\n",
       "      <td>14.000000</td>\n",
       "      <td>1.000000</td>\n",
       "      <td>8.000000</td>\n",
       "      <td>15.000000</td>\n",
       "      <td>16.000000</td>\n",
       "      <td>12054.000000</td>\n",
       "    </tr>\n",
       "    <tr>\n",
       "      <th>max</th>\n",
       "      <td>1.006040e+06</td>\n",
       "      <td>20.000000</td>\n",
       "      <td>1.000000</td>\n",
       "      <td>20.000000</td>\n",
       "      <td>18.000000</td>\n",
       "      <td>18.000000</td>\n",
       "      <td>23961.000000</td>\n",
       "    </tr>\n",
       "  </tbody>\n",
       "</table>\n",
       "</div>"
      ],
      "text/plain": [
       "            User_ID     Occupation  Marital_Status  Product_Category_1  \\\n",
       "count  5.500680e+05  550068.000000   550068.000000       550068.000000   \n",
       "mean   1.003029e+06       8.076707        0.409653            5.404270   \n",
       "std    1.727592e+03       6.522660        0.491770            3.936211   \n",
       "min    1.000001e+06       0.000000        0.000000            1.000000   \n",
       "25%    1.001516e+06       2.000000        0.000000            1.000000   \n",
       "50%    1.003077e+06       7.000000        0.000000            5.000000   \n",
       "75%    1.004478e+06      14.000000        1.000000            8.000000   \n",
       "max    1.006040e+06      20.000000        1.000000           20.000000   \n",
       "\n",
       "       Product_Category_2  Product_Category_3       Purchase  \n",
       "count       376430.000000       166821.000000  550068.000000  \n",
       "mean             9.842329           12.668243    9263.968713  \n",
       "std              5.086590            4.125338    5023.065394  \n",
       "min              2.000000            3.000000      12.000000  \n",
       "25%              5.000000            9.000000    5823.000000  \n",
       "50%              9.000000           14.000000    8047.000000  \n",
       "75%             15.000000           16.000000   12054.000000  \n",
       "max             18.000000           18.000000   23961.000000  "
      ]
     },
     "execution_count": 7,
     "metadata": {},
     "output_type": "execute_result"
    }
   ],
   "source": [
    "df.describe()"
   ]
  },
  {
   "cell_type": "code",
   "execution_count": 8,
   "metadata": {
    "execution": {
     "iopub.execute_input": "2023-08-07T12:05:58.586383Z",
     "iopub.status.busy": "2023-08-07T12:05:58.585634Z",
     "iopub.status.idle": "2023-08-07T12:05:59.015959Z",
     "shell.execute_reply": "2023-08-07T12:05:59.014837Z",
     "shell.execute_reply.started": "2023-08-07T12:05:58.586338Z"
    }
   },
   "outputs": [
    {
     "data": {
      "text/plain": [
       "User_ID                            0\n",
       "Product_ID                         0\n",
       "Gender                             0\n",
       "Age                                0\n",
       "Occupation                         0\n",
       "City_Category                      0\n",
       "Stay_In_Current_City_Years         0\n",
       "Marital_Status                     0\n",
       "Product_Category_1                 0\n",
       "Product_Category_2            173638\n",
       "Product_Category_3            383247\n",
       "Purchase                           0\n",
       "dtype: int64"
      ]
     },
     "execution_count": 8,
     "metadata": {},
     "output_type": "execute_result"
    }
   ],
   "source": [
    "df.isnull().sum()"
   ]
  },
  {
   "cell_type": "markdown",
   "metadata": {},
   "source": [
    "Product_Category_2' and 'Product_Category_3' has lot of null vlaues in it ,so we will be deleting that column rather than filling wth mean or any values  "
   ]
  },
  {
   "cell_type": "markdown",
   "metadata": {},
   "source": [
    "# Data Cleaning"
   ]
  },
  {
   "cell_type": "code",
   "execution_count": 9,
   "metadata": {
    "execution": {
     "iopub.execute_input": "2023-08-07T12:05:59.017485Z",
     "iopub.status.busy": "2023-08-07T12:05:59.017081Z",
     "iopub.status.idle": "2023-08-07T12:05:59.025699Z",
     "shell.execute_reply": "2023-08-07T12:05:59.024613Z",
     "shell.execute_reply.started": "2023-08-07T12:05:59.017445Z"
    }
   },
   "outputs": [],
   "source": [
    "del df['Product_Category_2']\n",
    "del df['Product_Category_3']"
   ]
  },
  {
   "cell_type": "code",
   "execution_count": 10,
   "metadata": {
    "execution": {
     "iopub.execute_input": "2023-08-07T12:05:59.028226Z",
     "iopub.status.busy": "2023-08-07T12:05:59.027790Z",
     "iopub.status.idle": "2023-08-07T12:05:59.047870Z",
     "shell.execute_reply": "2023-08-07T12:05:59.046468Z",
     "shell.execute_reply.started": "2023-08-07T12:05:59.028189Z"
    }
   },
   "outputs": [
    {
     "data": {
      "text/html": [
       "<div>\n",
       "<style scoped>\n",
       "    .dataframe tbody tr th:only-of-type {\n",
       "        vertical-align: middle;\n",
       "    }\n",
       "\n",
       "    .dataframe tbody tr th {\n",
       "        vertical-align: top;\n",
       "    }\n",
       "\n",
       "    .dataframe thead th {\n",
       "        text-align: right;\n",
       "    }\n",
       "</style>\n",
       "<table border=\"1\" class=\"dataframe\">\n",
       "  <thead>\n",
       "    <tr style=\"text-align: right;\">\n",
       "      <th></th>\n",
       "      <th>User_ID</th>\n",
       "      <th>Product_ID</th>\n",
       "      <th>Gender</th>\n",
       "      <th>Age</th>\n",
       "      <th>Occupation</th>\n",
       "      <th>City_Category</th>\n",
       "      <th>Stay_In_Current_City_Years</th>\n",
       "      <th>Marital_Status</th>\n",
       "      <th>Product_Category_1</th>\n",
       "      <th>Purchase</th>\n",
       "    </tr>\n",
       "  </thead>\n",
       "  <tbody>\n",
       "    <tr>\n",
       "      <th>0</th>\n",
       "      <td>1000001</td>\n",
       "      <td>P00069042</td>\n",
       "      <td>F</td>\n",
       "      <td>0-17</td>\n",
       "      <td>10</td>\n",
       "      <td>A</td>\n",
       "      <td>2</td>\n",
       "      <td>0</td>\n",
       "      <td>3</td>\n",
       "      <td>8370</td>\n",
       "    </tr>\n",
       "    <tr>\n",
       "      <th>1</th>\n",
       "      <td>1000001</td>\n",
       "      <td>P00248942</td>\n",
       "      <td>F</td>\n",
       "      <td>0-17</td>\n",
       "      <td>10</td>\n",
       "      <td>A</td>\n",
       "      <td>2</td>\n",
       "      <td>0</td>\n",
       "      <td>1</td>\n",
       "      <td>15200</td>\n",
       "    </tr>\n",
       "    <tr>\n",
       "      <th>2</th>\n",
       "      <td>1000001</td>\n",
       "      <td>P00087842</td>\n",
       "      <td>F</td>\n",
       "      <td>0-17</td>\n",
       "      <td>10</td>\n",
       "      <td>A</td>\n",
       "      <td>2</td>\n",
       "      <td>0</td>\n",
       "      <td>12</td>\n",
       "      <td>1422</td>\n",
       "    </tr>\n",
       "    <tr>\n",
       "      <th>3</th>\n",
       "      <td>1000001</td>\n",
       "      <td>P00085442</td>\n",
       "      <td>F</td>\n",
       "      <td>0-17</td>\n",
       "      <td>10</td>\n",
       "      <td>A</td>\n",
       "      <td>2</td>\n",
       "      <td>0</td>\n",
       "      <td>12</td>\n",
       "      <td>1057</td>\n",
       "    </tr>\n",
       "    <tr>\n",
       "      <th>4</th>\n",
       "      <td>1000002</td>\n",
       "      <td>P00285442</td>\n",
       "      <td>M</td>\n",
       "      <td>55+</td>\n",
       "      <td>16</td>\n",
       "      <td>C</td>\n",
       "      <td>4+</td>\n",
       "      <td>0</td>\n",
       "      <td>8</td>\n",
       "      <td>7969</td>\n",
       "    </tr>\n",
       "  </tbody>\n",
       "</table>\n",
       "</div>"
      ],
      "text/plain": [
       "   User_ID Product_ID Gender   Age  Occupation City_Category  \\\n",
       "0  1000001  P00069042      F  0-17          10             A   \n",
       "1  1000001  P00248942      F  0-17          10             A   \n",
       "2  1000001  P00087842      F  0-17          10             A   \n",
       "3  1000001  P00085442      F  0-17          10             A   \n",
       "4  1000002  P00285442      M   55+          16             C   \n",
       "\n",
       "  Stay_In_Current_City_Years  Marital_Status  Product_Category_1  Purchase  \n",
       "0                          2               0                   3      8370  \n",
       "1                          2               0                   1     15200  \n",
       "2                          2               0                  12      1422  \n",
       "3                          2               0                  12      1057  \n",
       "4                         4+               0                   8      7969  "
      ]
     },
     "execution_count": 10,
     "metadata": {},
     "output_type": "execute_result"
    }
   ],
   "source": [
    "df.head(5)"
   ]
  },
  {
   "cell_type": "code",
   "execution_count": 11,
   "metadata": {
    "execution": {
     "iopub.execute_input": "2023-08-07T12:05:59.050448Z",
     "iopub.status.busy": "2023-08-07T12:05:59.050052Z",
     "iopub.status.idle": "2023-08-07T12:05:59.477982Z",
     "shell.execute_reply": "2023-08-07T12:05:59.476626Z",
     "shell.execute_reply.started": "2023-08-07T12:05:59.050411Z"
    }
   },
   "outputs": [
    {
     "data": {
      "text/plain": [
       "User_ID                       0\n",
       "Product_ID                    0\n",
       "Gender                        0\n",
       "Age                           0\n",
       "Occupation                    0\n",
       "City_Category                 0\n",
       "Stay_In_Current_City_Years    0\n",
       "Marital_Status                0\n",
       "Product_Category_1            0\n",
       "Purchase                      0\n",
       "dtype: int64"
      ]
     },
     "execution_count": 11,
     "metadata": {},
     "output_type": "execute_result"
    }
   ],
   "source": [
    "df.isnull().sum()"
   ]
  },
  {
   "cell_type": "markdown",
   "metadata": {
    "execution": {
     "iopub.execute_input": "2023-08-07T10:32:44.458644Z",
     "iopub.status.busy": "2023-08-07T10:32:44.458219Z",
     "iopub.status.idle": "2023-08-07T10:32:44.464197Z",
     "shell.execute_reply": "2023-08-07T10:32:44.462920Z",
     "shell.execute_reply.started": "2023-08-07T10:32:44.458610Z"
    }
   },
   "source": [
    "# Data Correletion "
   ]
  },
  {
   "cell_type": "code",
   "execution_count": 12,
   "metadata": {
    "execution": {
     "iopub.execute_input": "2023-08-07T12:05:59.480497Z",
     "iopub.status.busy": "2023-08-07T12:05:59.479539Z",
     "iopub.status.idle": "2023-08-07T12:05:59.596066Z",
     "shell.execute_reply": "2023-08-07T12:05:59.594869Z",
     "shell.execute_reply.started": "2023-08-07T12:05:59.480447Z"
    }
   },
   "outputs": [
    {
     "data": {
      "text/html": [
       "<div>\n",
       "<style scoped>\n",
       "    .dataframe tbody tr th:only-of-type {\n",
       "        vertical-align: middle;\n",
       "    }\n",
       "\n",
       "    .dataframe tbody tr th {\n",
       "        vertical-align: top;\n",
       "    }\n",
       "\n",
       "    .dataframe thead th {\n",
       "        text-align: right;\n",
       "    }\n",
       "</style>\n",
       "<table border=\"1\" class=\"dataframe\">\n",
       "  <thead>\n",
       "    <tr style=\"text-align: right;\">\n",
       "      <th></th>\n",
       "      <th>User_ID</th>\n",
       "      <th>Occupation</th>\n",
       "      <th>Marital_Status</th>\n",
       "      <th>Product_Category_1</th>\n",
       "      <th>Purchase</th>\n",
       "    </tr>\n",
       "  </thead>\n",
       "  <tbody>\n",
       "    <tr>\n",
       "      <th>User_ID</th>\n",
       "      <td>1.000000</td>\n",
       "      <td>-0.023971</td>\n",
       "      <td>0.020443</td>\n",
       "      <td>0.003825</td>\n",
       "      <td>0.004716</td>\n",
       "    </tr>\n",
       "    <tr>\n",
       "      <th>Occupation</th>\n",
       "      <td>-0.023971</td>\n",
       "      <td>1.000000</td>\n",
       "      <td>0.024280</td>\n",
       "      <td>-0.007618</td>\n",
       "      <td>0.020833</td>\n",
       "    </tr>\n",
       "    <tr>\n",
       "      <th>Marital_Status</th>\n",
       "      <td>0.020443</td>\n",
       "      <td>0.024280</td>\n",
       "      <td>1.000000</td>\n",
       "      <td>0.019888</td>\n",
       "      <td>-0.000463</td>\n",
       "    </tr>\n",
       "    <tr>\n",
       "      <th>Product_Category_1</th>\n",
       "      <td>0.003825</td>\n",
       "      <td>-0.007618</td>\n",
       "      <td>0.019888</td>\n",
       "      <td>1.000000</td>\n",
       "      <td>-0.343703</td>\n",
       "    </tr>\n",
       "    <tr>\n",
       "      <th>Purchase</th>\n",
       "      <td>0.004716</td>\n",
       "      <td>0.020833</td>\n",
       "      <td>-0.000463</td>\n",
       "      <td>-0.343703</td>\n",
       "      <td>1.000000</td>\n",
       "    </tr>\n",
       "  </tbody>\n",
       "</table>\n",
       "</div>"
      ],
      "text/plain": [
       "                     User_ID  Occupation  Marital_Status  Product_Category_1  \\\n",
       "User_ID             1.000000   -0.023971        0.020443            0.003825   \n",
       "Occupation         -0.023971    1.000000        0.024280           -0.007618   \n",
       "Marital_Status      0.020443    0.024280        1.000000            0.019888   \n",
       "Product_Category_1  0.003825   -0.007618        0.019888            1.000000   \n",
       "Purchase            0.004716    0.020833       -0.000463           -0.343703   \n",
       "\n",
       "                    Purchase  \n",
       "User_ID             0.004716  \n",
       "Occupation          0.020833  \n",
       "Marital_Status     -0.000463  \n",
       "Product_Category_1 -0.343703  \n",
       "Purchase            1.000000  "
      ]
     },
     "execution_count": 12,
     "metadata": {},
     "output_type": "execute_result"
    }
   ],
   "source": [
    "df.corr()"
   ]
  },
  {
   "cell_type": "code",
   "execution_count": 13,
   "metadata": {
    "execution": {
     "iopub.execute_input": "2023-08-07T12:05:59.598025Z",
     "iopub.status.busy": "2023-08-07T12:05:59.597551Z",
     "iopub.status.idle": "2023-08-07T12:06:00.175169Z",
     "shell.execute_reply": "2023-08-07T12:06:00.173903Z",
     "shell.execute_reply.started": "2023-08-07T12:05:59.597980Z"
    }
   },
   "outputs": [
    {
     "data": {
      "text/plain": [
       "<AxesSubplot:>"
      ]
     },
     "execution_count": 13,
     "metadata": {},
     "output_type": "execute_result"
    },
    {
     "data": {
      "image/png": "[encoded data removed]",
      "text/plain": [
       "<Figure size 432x288 with 2 Axes>"
      ]
     },
     "metadata": {},
     "output_type": "display_data"
    }
   ],
   "source": [
    "sns.heatmap(df.corr(),annot = True,fmt = '.3f')"
   ]
  },
  {
   "cell_type": "markdown",
   "metadata": {
    "execution": {
     "iopub.execute_input": "2023-08-07T10:51:02.795948Z",
     "iopub.status.busy": "2023-08-07T10:51:02.794811Z",
     "iopub.status.idle": "2023-08-07T10:51:02.800991Z",
     "shell.execute_reply": "2023-08-07T10:51:02.800120Z",
     "shell.execute_reply.started": "2023-08-07T10:51:02.795894Z"
    }
   },
   "source": [
    " Product Category has high impact on purchase amount "
   ]
  },
  {
   "cell_type": "markdown",
   "metadata": {
    "execution": {
     "iopub.execute_input": "2023-08-07T07:02:02.682622Z",
     "iopub.status.busy": "2023-08-07T07:02:02.682039Z",
     "iopub.status.idle": "2023-08-07T07:02:02.687771Z",
     "shell.execute_reply": "2023-08-07T07:02:02.686561Z",
     "shell.execute_reply.started": "2023-08-07T07:02:02.682582Z"
    }
   },
   "source": [
    "# Data Frequency Distribution"
   ]
  },
  {
   "cell_type": "code",
   "execution_count": 14,
   "metadata": {
    "execution": {
     "iopub.execute_input": "2023-08-07T12:06:00.177230Z",
     "iopub.status.busy": "2023-08-07T12:06:00.176790Z",
     "iopub.status.idle": "2023-08-07T12:06:00.517395Z",
     "shell.execute_reply": "2023-08-07T12:06:00.515955Z",
     "shell.execute_reply.started": "2023-08-07T12:06:00.177192Z"
    }
   },
   "outputs": [
    {
     "data": {
      "text/plain": [
       "<AxesSubplot:ylabel='Frequency'>"
      ]
     },
     "execution_count": 14,
     "metadata": {},
     "output_type": "execute_result"
    },
    {
     "data": {
      "image/png": "[encoded data removed]",
      "text/plain": [
       "<Figure size 720x468 with 1 Axes>"
      ]
     },
     "metadata": {},
     "output_type": "display_data"
    }
   ],
   "source": [
    "df['Purchase'].plot(kind = 'hist',figsize = (10,6.5),edgecolor = 'black')"
   ]
  },
  {
   "cell_type": "markdown",
   "metadata": {
    "execution": {
     "iopub.execute_input": "2023-08-07T07:09:26.650941Z",
     "iopub.status.busy": "2023-08-07T07:09:26.650512Z",
     "iopub.status.idle": "2023-08-07T07:09:26.656174Z",
     "shell.execute_reply": "2023-08-07T07:09:26.654924Z",
     "shell.execute_reply.started": "2023-08-07T07:09:26.650908Z"
    }
   },
   "source": [
    "##### As we can see most of the data lies in between 5000 and 10000 range .However, there is observation of data after 20000 which can be considered outliers "
   ]
  },
  {
   "cell_type": "markdown",
   "metadata": {},
   "source": [
    "# Data Analysis"
   ]
  },
  {
   "cell_type": "markdown",
   "metadata": {
    "execution": {
     "iopub.execute_input": "2023-08-07T07:12:36.741202Z",
     "iopub.status.busy": "2023-08-07T07:12:36.740795Z",
     "iopub.status.idle": "2023-08-07T07:12:36.746151Z",
     "shell.execute_reply": "2023-08-07T07:12:36.745112Z",
     "shell.execute_reply.started": "2023-08-07T07:12:36.741171Z"
    }
   },
   "source": [
    "### 1) Gender Analysis"
   ]
  },
  {
   "cell_type": "code",
   "execution_count": 15,
   "metadata": {
    "execution": {
     "iopub.execute_input": "2023-08-07T12:06:00.523207Z",
     "iopub.status.busy": "2023-08-07T12:06:00.522822Z",
     "iopub.status.idle": "2023-08-07T12:06:00.743333Z",
     "shell.execute_reply": "2023-08-07T12:06:00.741946Z",
     "shell.execute_reply.started": "2023-08-07T12:06:00.523175Z"
    }
   },
   "outputs": [
    {
     "data": {
      "text/html": [
       "<div>\n",
       "<style scoped>\n",
       "    .dataframe tbody tr th:only-of-type {\n",
       "        vertical-align: middle;\n",
       "    }\n",
       "\n",
       "    .dataframe tbody tr th {\n",
       "        vertical-align: top;\n",
       "    }\n",
       "\n",
       "    .dataframe thead th {\n",
       "        text-align: right;\n",
       "    }\n",
       "</style>\n",
       "<table border=\"1\" class=\"dataframe\">\n",
       "  <thead>\n",
       "    <tr style=\"text-align: right;\">\n",
       "      <th></th>\n",
       "      <th>Ratio</th>\n",
       "    </tr>\n",
       "  </thead>\n",
       "  <tbody>\n",
       "    <tr>\n",
       "      <th>Male</th>\n",
       "      <td>414259</td>\n",
       "    </tr>\n",
       "    <tr>\n",
       "      <th>Female</th>\n",
       "      <td>135809</td>\n",
       "    </tr>\n",
       "  </tbody>\n",
       "</table>\n",
       "</div>"
      ],
      "text/plain": [
       "         Ratio\n",
       "Male    414259\n",
       "Female  135809"
      ]
     },
     "execution_count": 15,
     "metadata": {},
     "output_type": "execute_result"
    }
   ],
   "source": [
    "gender_ratio_data = pd.DataFrame({'Ratio': [len(df[df['Gender'] =='M']),len(df[df['Gender'] =='F'])]},index = ['Male','Female'])\n",
    "gender_ratio_data"
   ]
  },
  {
   "cell_type": "markdown",
   "metadata": {},
   "source": [
    "#### A) Data Analysis on Gender Contribution on black friday sale day"
   ]
  },
  {
   "cell_type": "code",
   "execution_count": 16,
   "metadata": {
    "execution": {
     "iopub.execute_input": "2023-08-07T12:06:00.745422Z",
     "iopub.status.busy": "2023-08-07T12:06:00.744972Z",
     "iopub.status.idle": "2023-08-07T12:06:00.938122Z",
     "shell.execute_reply": "2023-08-07T12:06:00.936843Z",
     "shell.execute_reply.started": "2023-08-07T12:06:00.745383Z"
    }
   },
   "outputs": [
    {
     "data": {
      "text/plain": [
       "array([<AxesSubplot:ylabel='Ratio'>], dtype=object)"
      ]
     },
     "execution_count": 16,
     "metadata": {},
     "output_type": "execute_result"
    },
    {
     "data": {
      "image/png": "[encoded data removed]",
      "text/plain": [
       "<Figure size 432x288 with 1 Axes>"
      ]
     },
     "metadata": {},
     "output_type": "display_data"
    }
   ],
   "source": [
    "gender_ratio_data.plot.pie(y='Ratio',autopct = '%.2f',subplots=True,title = 'Male vs Female Contribution Ratio')"
   ]
  },
  {
   "cell_type": "markdown",
   "metadata": {},
   "source": [
    "#### B) Data Analysis on Gender Purchase on black friday sale day"
   ]
  },
  {
   "cell_type": "code",
   "execution_count": 17,
   "metadata": {
    "execution": {
     "iopub.execute_input": "2023-08-07T12:06:00.940781Z",
     "iopub.status.busy": "2023-08-07T12:06:00.939810Z",
     "iopub.status.idle": "2023-08-07T12:06:01.157377Z",
     "shell.execute_reply": "2023-08-07T12:06:01.156086Z",
     "shell.execute_reply.started": "2023-08-07T12:06:00.940732Z"
    }
   },
   "outputs": [
    {
     "data": {
      "text/plain": [
       "array([<AxesSubplot:ylabel='Purchase'>], dtype=object)"
      ]
     },
     "execution_count": 17,
     "metadata": {},
     "output_type": "execute_result"
    },
    {
     "data": {
      "image/png": "[encoded data removed]",
      "text/plain": [
       "<Figure size 432x288 with 1 Axes>"
      ]
     },
     "metadata": {},
     "output_type": "display_data"
    }
   ],
   "source": [
    "gender_purchase_data = df.groupby('Gender')['Purchase'].sum()\n",
    "gender_purchase_data.plot.pie(autopct = '%.2f',subplots = True,title = 'Male vs Female Purchase Ratio')"
   ]
  },
  {
   "cell_type": "markdown",
   "metadata": {
    "execution": {
     "iopub.execute_input": "2023-08-07T07:44:02.003958Z",
     "iopub.status.busy": "2023-08-07T07:44:02.003549Z",
     "iopub.status.idle": "2023-08-07T07:44:02.009403Z",
     "shell.execute_reply": "2023-08-07T07:44:02.008132Z",
     "shell.execute_reply.started": "2023-08-07T07:44:02.003927Z"
    }
   },
   "source": [
    "### 2) Marital Anlaysis"
   ]
  },
  {
   "cell_type": "code",
   "execution_count": 18,
   "metadata": {
    "execution": {
     "iopub.execute_input": "2023-08-07T12:06:01.161486Z",
     "iopub.status.busy": "2023-08-07T12:06:01.160161Z",
     "iopub.status.idle": "2023-08-07T12:06:01.348171Z",
     "shell.execute_reply": "2023-08-07T12:06:01.346680Z",
     "shell.execute_reply.started": "2023-08-07T12:06:01.161417Z"
    }
   },
   "outputs": [
    {
     "data": {
      "text/plain": [
       "array([<AxesSubplot:ylabel='Purchase'>], dtype=object)"
      ]
     },
     "execution_count": 18,
     "metadata": {},
     "output_type": "execute_result"
    },
    {
     "data": {
      "image/png": "[encoded data removed]",
      "text/plain": [
       "<Figure size 432x288 with 1 Axes>"
      ]
     },
     "metadata": {},
     "output_type": "display_data"
    }
   ],
   "source": [
    "marital_data = df.groupby('Marital_Status')['Purchase'].sum() \n",
    "marital_data.plot.pie(subplots = True,title = 'Marital Purchase Analysis',autopct = '%.1f')"
   ]
  },
  {
   "cell_type": "markdown",
   "metadata": {
    "execution": {
     "iopub.execute_input": "2023-08-07T07:41:47.488985Z",
     "iopub.status.busy": "2023-08-07T07:41:47.488540Z",
     "iopub.status.idle": "2023-08-07T07:41:47.494167Z",
     "shell.execute_reply": "2023-08-07T07:41:47.492920Z",
     "shell.execute_reply.started": "2023-08-07T07:41:47.488949Z"
    }
   },
   "source": [
    "Looking at above plot, we can observer that 'Singles' buys more than married people"
   ]
  },
  {
   "cell_type": "markdown",
   "metadata": {},
   "source": [
    "### 3) Occupation Analysis"
   ]
  },
  {
   "cell_type": "code",
   "execution_count": 19,
   "metadata": {
    "execution": {
     "iopub.execute_input": "2023-08-07T12:06:01.351728Z",
     "iopub.status.busy": "2023-08-07T12:06:01.350647Z",
     "iopub.status.idle": "2023-08-07T12:06:01.954899Z",
     "shell.execute_reply": "2023-08-07T12:06:01.953642Z",
     "shell.execute_reply.started": "2023-08-07T12:06:01.351666Z"
    }
   },
   "outputs": [
    {
     "data": {
      "text/plain": [
       "<AxesSubplot:title={'center':'Purchase made according to different Occupation'}, xlabel='Occupation'>"
      ]
     },
     "execution_count": 19,
     "metadata": {},
     "output_type": "execute_result"
    },
    {
     "data": {
      "image/png": "[encoded data removed]",
      "text/plain": [
       "<Figure size 432x288 with 1 Axes>"
      ]
     },
     "metadata": {},
     "output_type": "display_data"
    }
   ],
   "source": [
    "occup_data = df.groupby('Occupation')['Purchase'].sum()\n",
    "occup_data.plot(kind = 'bar',title = 'Purchase made according to different Occupation')"
   ]
  },
  {
   "cell_type": "markdown",
   "metadata": {
    "execution": {
     "iopub.execute_input": "2023-08-07T07:55:18.212111Z",
     "iopub.status.busy": "2023-08-07T07:55:18.211643Z",
     "iopub.status.idle": "2023-08-07T07:55:18.217028Z",
     "shell.execute_reply": "2023-08-07T07:55:18.215858Z",
     "shell.execute_reply.started": "2023-08-07T07:55:18.212074Z"
    }
   },
   "source": [
    "Age between 18 to 45 buys more than other age groups"
   ]
  },
  {
   "cell_type": "markdown",
   "metadata": {},
   "source": [
    "### 4) City Analysis"
   ]
  },
  {
   "cell_type": "code",
   "execution_count": 20,
   "metadata": {
    "execution": {
     "iopub.execute_input": "2023-08-07T12:06:01.958000Z",
     "iopub.status.busy": "2023-08-07T12:06:01.957082Z",
     "iopub.status.idle": "2023-08-07T12:06:02.333280Z",
     "shell.execute_reply": "2023-08-07T12:06:02.332250Z",
     "shell.execute_reply.started": "2023-08-07T12:06:01.957945Z"
    }
   },
   "outputs": [
    {
     "data": {
      "text/plain": [
       "<AxesSubplot:title={'center':'City wise purcahse'}, xlabel='City_Category'>"
      ]
     },
     "execution_count": 20,
     "metadata": {},
     "output_type": "execute_result"
    },
    {
     "data": {
      "image/png": "[encoded data removed]",
      "text/plain": [
       "<Figure size 432x288 with 1 Axes>"
      ]
     },
     "metadata": {},
     "output_type": "display_data"
    }
   ],
   "source": [
    "city_data = df.groupby('City_Category')['Purchase'].sum()\n",
    "city_data = city_data.sort_values()\n",
    "city_data.plot(kind = 'bar',title = 'City wise purcahse')"
   ]
  },
  {
   "cell_type": "markdown",
   "metadata": {
    "execution": {
     "iopub.execute_input": "2023-08-07T10:04:39.770583Z",
     "iopub.status.busy": "2023-08-07T10:04:39.770179Z",
     "iopub.status.idle": "2023-08-07T10:04:39.775401Z",
     "shell.execute_reply": "2023-08-07T10:04:39.774421Z",
     "shell.execute_reply.started": "2023-08-07T10:04:39.770552Z"
    }
   },
   "source": [
    " City B has done most purchase"
   ]
  },
  {
   "cell_type": "markdown",
   "metadata": {
    "execution": {
     "iopub.execute_input": "2023-08-07T10:24:13.915360Z",
     "iopub.status.busy": "2023-08-07T10:24:13.914938Z",
     "iopub.status.idle": "2023-08-07T10:24:13.921235Z",
     "shell.execute_reply": "2023-08-07T10:24:13.919734Z",
     "shell.execute_reply.started": "2023-08-07T10:24:13.915325Z"
    }
   },
   "source": [
    "### 5) Age Analysis"
   ]
  },
  {
   "cell_type": "code",
   "execution_count": 21,
   "metadata": {
    "execution": {
     "iopub.execute_input": "2023-08-07T12:06:02.336687Z",
     "iopub.status.busy": "2023-08-07T12:06:02.335651Z",
     "iopub.status.idle": "2023-08-07T12:06:02.741657Z",
     "shell.execute_reply": "2023-08-07T12:06:02.740096Z",
     "shell.execute_reply.started": "2023-08-07T12:06:02.336632Z"
    }
   },
   "outputs": [
    {
     "data": {
      "text/plain": [
       "<AxesSubplot:title={'center':'Age wise purcahse'}, xlabel='Age'>"
      ]
     },
     "execution_count": 21,
     "metadata": {},
     "output_type": "execute_result"
    },
    {
     "data": {
      "image/png": "[encoded data removed]",
      "text/plain": [
       "<Figure size 432x288 with 1 Axes>"
      ]
     },
     "metadata": {},
     "output_type": "display_data"
    }
   ],
   "source": [
    "age_data = df.groupby('Age')['Purchase'].sum()\n",
    "age_data = age_data.sort_values()\n",
    "age_data.plot(kind = 'bar',title = 'Age wise purcahse')"
   ]
  },
  {
   "cell_type": "markdown",
   "metadata": {},
   "source": [
    " People who comes into the range of 26 - 35 age group purchases more"
   ]
  },
  {
   "cell_type": "markdown",
   "metadata": {
    "execution": {
     "iopub.execute_input": "2023-08-07T10:28:56.213599Z",
     "iopub.status.busy": "2023-08-07T10:28:56.212349Z",
     "iopub.status.idle": "2023-08-07T10:28:56.219050Z",
     "shell.execute_reply": "2023-08-07T10:28:56.217744Z",
     "shell.execute_reply.started": "2023-08-07T10:28:56.213545Z"
    }
   },
   "source": [
    "### 6)Customer analysis "
   ]
  },
  {
   "cell_type": "markdown",
   "metadata": {
    "execution": {
     "iopub.execute_input": "2023-08-07T10:32:44.458644Z",
     "iopub.status.busy": "2023-08-07T10:32:44.458219Z",
     "iopub.status.idle": "2023-08-07T10:32:44.464197Z",
     "shell.execute_reply": "2023-08-07T10:32:44.462920Z",
     "shell.execute_reply.started": "2023-08-07T10:32:44.458610Z"
    }
   },
   "source": [
    "#### 6.1) Age and Gender"
   ]
  },
  {
   "cell_type": "code",
   "execution_count": 24,
   "metadata": {
    "execution": {
     "iopub.execute_input": "2023-08-07T12:06:03.447463Z",
     "iopub.status.busy": "2023-08-07T12:06:03.445817Z",
     "iopub.status.idle": "2023-08-07T12:06:04.678363Z",
     "shell.execute_reply": "2023-08-07T12:06:04.676977Z",
     "shell.execute_reply.started": "2023-08-07T12:06:03.447396Z"
    }
   },
   "outputs": [
    {
     "data": {
      "text/plain": [
       "<AxesSubplot:xlabel='Gender', ylabel='count'>"
      ]
     },
     "execution_count": 24,
     "metadata": {},
     "output_type": "execute_result"
    },
    {
     "data": {
      "image/png": "[encoded data removed]",
      "text/plain": [
       "<Figure size 432x288 with 1 Axes>"
      ]
     },
     "metadata": {},
     "output_type": "display_data"
    }
   ],
   "source": [
    "gen_age_data = sns.countplot(x='Gender',hue= 'Age',data = df,)\n",
    "gen_age_data"
   ]
  },
  {
   "cell_type": "markdown",
   "metadata": {
    "execution": {
     "iopub.execute_input": "2023-08-07T10:32:44.458644Z",
     "iopub.status.busy": "2023-08-07T10:32:44.458219Z",
     "iopub.status.idle": "2023-08-07T10:32:44.464197Z",
     "shell.execute_reply": "2023-08-07T10:32:44.462920Z",
     "shell.execute_reply.started": "2023-08-07T10:32:44.458610Z"
    }
   },
   "source": [
    "#### 6.2) Marital Status and Gender"
   ]
  },
  {
   "cell_type": "code",
   "execution_count": 25,
   "metadata": {
    "execution": {
     "iopub.execute_input": "2023-08-07T12:06:04.680447Z",
     "iopub.status.busy": "2023-08-07T12:06:04.680053Z",
     "iopub.status.idle": "2023-08-07T12:06:05.602228Z",
     "shell.execute_reply": "2023-08-07T12:06:05.600684Z",
     "shell.execute_reply.started": "2023-08-07T12:06:04.680413Z"
    }
   },
   "outputs": [
    {
     "data": {
      "text/plain": [
       "<AxesSubplot:xlabel='Gender', ylabel='count'>"
      ]
     },
     "execution_count": 25,
     "metadata": {},
     "output_type": "execute_result"
    },
    {
     "data": {
      "image/png": "[encoded data removed]",
      "text/plain": [
       "<Figure size 432x288 with 1 Axes>"
      ]
     },
     "metadata": {},
     "output_type": "display_data"
    }
   ],
   "source": [
    "gen_mart_data= sns.countplot(x='Gender',hue= 'Marital_Status',data = df,)\n",
    "gen_mart_data"
   ]
  },
  {
   "cell_type": "markdown",
   "metadata": {},
   "source": [
    "Single Males purchases more than married males"
   ]
  },
  {
   "cell_type": "markdown",
   "metadata": {
    "execution": {
     "iopub.execute_input": "2023-08-07T10:32:44.458644Z",
     "iopub.status.busy": "2023-08-07T10:32:44.458219Z",
     "iopub.status.idle": "2023-08-07T10:32:44.464197Z",
     "shell.execute_reply": "2023-08-07T10:32:44.462920Z",
     "shell.execute_reply.started": "2023-08-07T10:32:44.458610Z"
    }
   },
   "source": [
    "#### 6.3) City Category and Age"
   ]
  },
  {
   "cell_type": "code",
   "execution_count": 30,
   "metadata": {
    "execution": {
     "iopub.execute_input": "2023-08-07T12:06:06.535930Z",
     "iopub.status.busy": "2023-08-07T12:06:06.535365Z",
     "iopub.status.idle": "2023-08-07T12:06:07.571304Z",
     "shell.execute_reply": "2023-08-07T12:06:07.569963Z",
     "shell.execute_reply.started": "2023-08-07T12:06:06.535891Z"
    },
    "scrolled": false
   },
   "outputs": [
    {
     "data": {
      "text/plain": [
       "<AxesSubplot:xlabel='Age', ylabel='count'>"
      ]
     },
     "execution_count": 30,
     "metadata": {},
     "output_type": "execute_result"
    },
    {
     "data": {
      "image/png": "[encoded data removed]",
      "text/plain": [
       "<Figure size 432x288 with 1 Axes>"
      ]
     },
     "metadata": {},
     "output_type": "display_data"
    }
   ],
   "source": [
    "age_city_data= sns.countplot(x='Age',hue= 'City_Category',data = df,)\n",
    "age_city_data"
   ]
  },
  {
   "cell_type": "markdown",
   "metadata": {},
   "source": [
    "#### 6.4) City Category and Gender"
   ]
  },
  {
   "cell_type": "code",
   "execution_count": 26,
   "metadata": {
    "execution": {
     "iopub.execute_input": "2023-08-07T12:06:05.604223Z",
     "iopub.status.busy": "2023-08-07T12:06:05.603836Z",
     "iopub.status.idle": "2023-08-07T12:06:06.533569Z",
     "shell.execute_reply": "2023-08-07T12:06:06.531426Z",
     "shell.execute_reply.started": "2023-08-07T12:06:05.604191Z"
    },
    "scrolled": true
   },
   "outputs": [
    {
     "data": {
      "text/plain": [
       "<AxesSubplot:xlabel='Gender', ylabel='count'>"
      ]
     },
     "execution_count": 26,
     "metadata": {},
     "output_type": "execute_result"
    },
    {
     "data": {
      "image/png": "[encoded data removed]",
      "text/plain": [
       "<Figure size 432x288 with 1 Axes>"
      ]
     },
     "metadata": {},
     "output_type": "display_data"
    }
   ],
   "source": [
    "gen_city_data= sns.countplot(x='Gender',hue= 'City_Category',data = df,)\n",
    "gen_city_data"
   ]
  },
  {
   "cell_type": "markdown",
   "metadata": {
    "execution": {
     "iopub.execute_input": "2023-08-07T10:10:29.212863Z",
     "iopub.status.busy": "2023-08-07T10:10:29.212455Z",
     "iopub.status.idle": "2023-08-07T10:10:29.217869Z",
     "shell.execute_reply": "2023-08-07T10:10:29.216632Z",
     "shell.execute_reply.started": "2023-08-07T10:10:29.212831Z"
    }
   },
   "source": [
    "### 7) Top 5 most product which was purchased in black friday sale"
   ]
  },
  {
   "cell_type": "code",
   "execution_count": 22,
   "metadata": {
    "execution": {
     "iopub.execute_input": "2023-08-07T12:06:02.744686Z",
     "iopub.status.busy": "2023-08-07T12:06:02.743981Z",
     "iopub.status.idle": "2023-08-07T12:06:02.992550Z",
     "shell.execute_reply": "2023-08-07T12:06:02.991117Z",
     "shell.execute_reply.started": "2023-08-07T12:06:02.744634Z"
    }
   },
   "outputs": [
    {
     "data": {
      "text/plain": [
       "array([<AxesSubplot:ylabel='Purchase'>], dtype=object)"
      ]
     },
     "execution_count": 22,
     "metadata": {},
     "output_type": "execute_result"
    },
    {
     "data": {
      "image/png": "[encoded data removed]",
      "text/plain": [
       "<Figure size 432x288 with 1 Axes>"
      ]
     },
     "metadata": {},
     "output_type": "display_data"
    }
   ],
   "source": [
    "top_pdt = df.groupby('Product_ID')['Purchase'].sum()\n",
    "top_pdt = top_pdt.sort_values()\n",
    "\n",
    "top_pdt = top_pdt.head(5)\n",
    "top_pdt.plot(kind = 'pie',subplots = True,autopct = '%.2f')"
   ]
  },
  {
   "cell_type": "markdown",
   "metadata": {
    "execution": {
     "iopub.execute_input": "2023-08-07T10:18:40.774638Z",
     "iopub.status.busy": "2023-08-07T10:18:40.774213Z",
     "iopub.status.idle": "2023-08-07T10:18:40.780473Z",
     "shell.execute_reply": "2023-08-07T10:18:40.779265Z",
     "shell.execute_reply.started": "2023-08-07T10:18:40.774604Z"
    }
   },
   "source": [
    "### 8) Purchase made by those customers who stayed in the categorical city in terms of years"
   ]
  },
  {
   "cell_type": "code",
   "execution_count": 23,
   "metadata": {
    "execution": {
     "iopub.execute_input": "2023-08-07T12:06:02.996383Z",
     "iopub.status.busy": "2023-08-07T12:06:02.994693Z",
     "iopub.status.idle": "2023-08-07T12:06:03.443664Z",
     "shell.execute_reply": "2023-08-07T12:06:03.441961Z",
     "shell.execute_reply.started": "2023-08-07T12:06:02.996315Z"
    },
    "scrolled": true
   },
   "outputs": [
    {
     "data": {
      "text/plain": [
       "<AxesSubplot:title={'center':'Customer purchase by their years in the city'}, xlabel='Stay_In_Current_City_Years'>"
      ]
     },
     "execution_count": 23,
     "metadata": {},
     "output_type": "execute_result"
    },
    {
     "data": {
      "image/png": "[encoded data removed]",
      "text/plain": [
       "<Figure size 432x288 with 1 Axes>"
      ]
     },
     "metadata": {},
     "output_type": "display_data"
    }
   ],
   "source": [
    "sty_city  =  df.groupby('Stay_In_Current_City_Years')['Purchase'].sum()\n",
    "sty_city.plot(kind = 'bar',title = 'Customer purchase by their years in the city')"
   ]
  },
  {
   "cell_type": "markdown",
   "metadata": {},
   "source": [
    " As we can oberserve, that people who lives more than 1 years in the city purchases less "
   ]
  },
  {
   "cell_type": "code",
   "execution_count": null,
   "metadata": {},
   "outputs": [],
   "source": []
  }
 ],
 "metadata": {
  "kernelspec": {
   "display_name": "Python 3 (ipykernel)",
   "language": "python",
   "name": "python3"
  },
  "language_info": {
   "codemirror_mode": {
    "name": "ipython",
    "version": 3
   },
   "file_extension": ".py",
   "mimetype": "text/x-python",
   "name": "python",
   "nbconvert_exporter": "python",
   "pygments_lexer": "ipython3",
   "version": "3.9.12"
  }
 },
 "nbformat": 4,
 "nbformat_minor": 4
}
