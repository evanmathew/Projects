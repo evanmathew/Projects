{
 "cells": [
  {
   "cell_type": "markdown",
   "id": "3e62ee4c",
   "metadata": {},
   "source": [
    "#### Importing Required Modules "
   ]
  },
  {
   "cell_type": "code",
   "execution_count": 147,
   "id": "6ef4743e",
   "metadata": {},
   "outputs": [],
   "source": [
    "# Importing BeautifulSoup for parsing HTML document from webpage\n",
    "from bs4 import BeautifulSoup\n",
    "from tqdm import tqdm\n",
    "\n",
    "# Importing selenium and Chromedriver_binary\n",
    "from selenium import webdriver\n",
    "import chromedriver_binary\n",
    "\n",
    "# Importing Data Processing and Lninear Algebra Module\n",
    "import pandas as pd\n",
    "import numpy as np \n",
    "\n",
    "import time"
   ]
  },
  {
   "cell_type": "code",
   "execution_count": 148,
   "id": "5c4a7bbc",
   "metadata": {},
   "outputs": [],
   "source": [
    "# Initiating the chrome driver in the system ,which will will pop up as an individual chrome testing browser as\n",
    "driver = webdriver.Chrome()"
   ]
  },
  {
   "cell_type": "code",
   "execution_count": 149,
   "id": "65eb7bb7",
   "metadata": {},
   "outputs": [],
   "source": [
    "# Providing the link\n",
    "link = 'https://stock-pictures.netlify.app/'\n",
    "driver.get(link)"
   ]
  },
  {
   "cell_type": "markdown",
   "id": "1da51239",
   "metadata": {},
   "source": [
    "#### Auto window scroll to reach  bottom"
   ]
  },
  {
   "cell_type": "code",
   "execution_count": 150,
   "id": "ded58296",
   "metadata": {},
   "outputs": [
    {
     "name": "stderr",
     "output_type": "stream",
     "text": [
      "100%|███████████████████████████████████████████████████████████████████| 3300/3300 [06:01<00:00,  9.13it/s]\n"
     ]
    }
   ],
   "source": [
    "# Auto Window Scroll to reach bottom of the webpage\n",
    "for i in tqdm(range(0,33000000,1000)):\n",
    "    driver.execute_script(\"window.scrollTo(0,\"  + str(i) + \")\")\n",
    "    time.sleep(.1)"
   ]
  },
  {
   "cell_type": "markdown",
   "id": "df3f65f6",
   "metadata": {},
   "source": [
    "#### Data Scraping"
   ]
  },
  {
   "cell_type": "code",
   "execution_count": 173,
   "id": "de54f36e",
   "metadata": {},
   "outputs": [
    {
     "data": {
      "text/plain": [
       "853"
      ]
     },
     "execution_count": 173,
     "metadata": {},
     "output_type": "execute_result"
    }
   ],
   "source": [
    "#Parsing the HTML code\n",
    "soup = BeautifulSoup(driver.page_source,'html.parser')\n",
    "\n",
    "#Checking number of images to be scraped\n",
    "len(soup.find_all('div',class_ = 'container'))"
   ]
  },
  {
   "cell_type": "code",
   "execution_count": 160,
   "id": "1d3edcac",
   "metadata": {},
   "outputs": [],
   "source": [
    "#Scraping the Image Details\n",
    "\n",
    "data = [] # We will be storing all the data as a list \n",
    "\n",
    "for sp in soup.find_all('div',class_ = 'container'):\n",
    "    #print(sp.find('img'))\n",
    "    if(('.jpg'or'.png') in sp.find('img').get('src')):\n",
    "        link = sp.find('img').get('src')\n",
    "        tag = list(set(sp.find('div',class_ = 'tags').text[7:].split(\" \")))\n",
    "        like = int(sp.find('div',class_ = 'likes-comments').find_all('span')[0].text[:-6])\n",
    "        comment = int(sp.find('div',class_ = 'likes-comments').find_all('span')[1].text[:-9])\n",
    "        #print(link,' '.join(tag),like,comment)\n",
    "        \n",
    "         #Appending new scraped data into current data list with old data\n",
    "        data.append([link,' '.join(tag),like,comment])"
   ]
  },
  {
   "cell_type": "code",
   "execution_count": 188,
   "id": "3d7eb2d0",
   "metadata": {
    "scrolled": false
   },
   "outputs": [
    {
     "data": {
      "text/plain": [
       "435"
      ]
     },
     "execution_count": 188,
     "metadata": {},
     "output_type": "execute_result"
    }
   ],
   "source": [
    "len(data)"
   ]
  },
  {
   "cell_type": "markdown",
   "id": "7d9f8f56",
   "metadata": {},
   "source": [
    "#### Saving data in dataframe"
   ]
  },
  {
   "cell_type": "code",
   "execution_count": 189,
   "id": "02e0fc86",
   "metadata": {},
   "outputs": [
    {
     "data": {
      "text/html": [
       "<div>\n",
       "<style scoped>\n",
       "    .dataframe tbody tr th:only-of-type {\n",
       "        vertical-align: middle;\n",
       "    }\n",
       "\n",
       "    .dataframe tbody tr th {\n",
       "        vertical-align: top;\n",
       "    }\n",
       "\n",
       "    .dataframe thead th {\n",
       "        text-align: right;\n",
       "    }\n",
       "</style>\n",
       "<table border=\"1\" class=\"dataframe\">\n",
       "  <thead>\n",
       "    <tr style=\"text-align: right;\">\n",
       "      <th></th>\n",
       "      <th>link</th>\n",
       "      <th>tags</th>\n",
       "      <th>likes</th>\n",
       "      <th>comments</th>\n",
       "    </tr>\n",
       "  </thead>\n",
       "  <tbody>\n",
       "    <tr>\n",
       "      <th>0</th>\n",
       "      <td>https://cdn.pixabay.com/photo/2022/03/06/05/30...</td>\n",
       "      <td>Clouds, Sky Blue Atmosphere, Sky,</td>\n",
       "      <td>196</td>\n",
       "      <td>55</td>\n",
       "    </tr>\n",
       "    <tr>\n",
       "      <th>1</th>\n",
       "      <td>https://cdn.pixabay.com/photo/2022/04/07/11/45...</td>\n",
       "      <td>Bird, Ornithology, Hummingbird</td>\n",
       "      <td>76</td>\n",
       "      <td>20</td>\n",
       "    </tr>\n",
       "    <tr>\n",
       "      <th>2</th>\n",
       "      <td>https://cdn.pixabay.com/photo/2022/02/28/15/28...</td>\n",
       "      <td>Sea, Subtropical Rainfall, Rainbow,</td>\n",
       "      <td>282</td>\n",
       "      <td>106</td>\n",
       "    </tr>\n",
       "    <tr>\n",
       "      <th>3</th>\n",
       "      <td>https://cdn.pixabay.com/photo/2022/04/04/02/52...</td>\n",
       "      <td>Sakura Road, Blossoms, Cherry Japan,</td>\n",
       "      <td>42</td>\n",
       "      <td>11</td>\n",
       "    </tr>\n",
       "    <tr>\n",
       "      <th>4</th>\n",
       "      <td>https://cdn.pixabay.com/photo/2022/04/09/18/06...</td>\n",
       "      <td>Plant Cape Marguerite, Flower,</td>\n",
       "      <td>39</td>\n",
       "      <td>15</td>\n",
       "    </tr>\n",
       "  </tbody>\n",
       "</table>\n",
       "</div>"
      ],
      "text/plain": [
       "                                                link  \\\n",
       "0  https://cdn.pixabay.com/photo/2022/03/06/05/30...   \n",
       "1  https://cdn.pixabay.com/photo/2022/04/07/11/45...   \n",
       "2  https://cdn.pixabay.com/photo/2022/02/28/15/28...   \n",
       "3  https://cdn.pixabay.com/photo/2022/04/04/02/52...   \n",
       "4  https://cdn.pixabay.com/photo/2022/04/09/18/06...   \n",
       "\n",
       "                                   tags  likes  comments  \n",
       "0     Clouds, Sky Blue Atmosphere, Sky,    196        55  \n",
       "1        Bird, Ornithology, Hummingbird     76        20  \n",
       "2   Sea, Subtropical Rainfall, Rainbow,    282       106  \n",
       "3  Sakura Road, Blossoms, Cherry Japan,     42        11  \n",
       "4        Plant Cape Marguerite, Flower,     39        15  "
      ]
     },
     "execution_count": 189,
     "metadata": {},
     "output_type": "execute_result"
    }
   ],
   "source": [
    "df = pd.DataFrame(data,columns=['link','tags','likes','comments'])  # Creating dataframe from the data list \n",
    "df.head()"
   ]
  },
  {
   "cell_type": "markdown",
   "id": "f4454fc7",
   "metadata": {},
   "source": [
    "#### Downloading the image and saving in 'image_folder' @ current directory"
   ]
  },
  {
   "cell_type": "code",
   "execution_count": 185,
   "id": "e3167efa",
   "metadata": {},
   "outputs": [
    {
     "name": "stderr",
     "output_type": "stream",
     "text": [
      "100%|█████████████████████████████████████████████████████████████████████| 435/435 [01:00<00:00,  7.15it/s]\n"
     ]
    }
   ],
   "source": [
    "paths = []\n",
    "img_ids = []\n",
    "ref = 100000\n",
    "i = 1\n",
    "\n",
    "for link in tqdm(df['link']): # tqdm visualize the iteration\n",
    "    res = requests.get(link)  # sending request\n",
    "    \n",
    "    img_id = 'A' + str(i+ref)[1:] # creating image ID\n",
    "    i = i+1\n",
    "    img_path = 'image_folder/'+ img_id + '.jpg' # Do create a new folder name \" image_folder \" in current working directory\n",
    "    \n",
    "    # File Descriptor\n",
    "    fd = open(img_path,'wb') # wb means Web Binary\n",
    "    fd.write(res.content) # saving image in web binary format\n",
    "    fd.close()\n",
    "    \n",
    "    paths.append(img_path) # Saving the path of every downloaded image \n",
    "    img_ids.append(img_id) # Saving ID/Name given to every images\n",
    "    \n",
    "    "
   ]
  },
  {
   "cell_type": "code",
   "execution_count": 191,
   "id": "bc26a6d6",
   "metadata": {},
   "outputs": [],
   "source": [
    "df['img_path'] = paths    # storing the path list in a new coloumn 'img_paths' \n",
    "df['img_ids'] = img_ids   # storing the path list in a new coloumn 'img_ids' "
   ]
  },
  {
   "cell_type": "markdown",
   "id": "771879d0",
   "metadata": {},
   "source": [
    "#### Saving final dataset as csv file"
   ]
  },
  {
   "cell_type": "code",
   "execution_count": 163,
   "id": "b199762d",
   "metadata": {},
   "outputs": [],
   "source": [
    "df.to_csv('stock_photo.csv',index=False) # Exporting the data in to CSV file named \"data.csv\""
   ]
  },
  {
   "cell_type": "code",
   "execution_count": 165,
   "id": "79c89c8f",
   "metadata": {
    "scrolled": true
   },
   "outputs": [
    {
     "data": {
      "text/html": [
       "<div>\n",
       "<style scoped>\n",
       "    .dataframe tbody tr th:only-of-type {\n",
       "        vertical-align: middle;\n",
       "    }\n",
       "\n",
       "    .dataframe tbody tr th {\n",
       "        vertical-align: top;\n",
       "    }\n",
       "\n",
       "    .dataframe thead th {\n",
       "        text-align: right;\n",
       "    }\n",
       "</style>\n",
       "<table border=\"1\" class=\"dataframe\">\n",
       "  <thead>\n",
       "    <tr style=\"text-align: right;\">\n",
       "      <th></th>\n",
       "      <th>link</th>\n",
       "      <th>tags</th>\n",
       "      <th>likes</th>\n",
       "      <th>comments</th>\n",
       "      <th>path</th>\n",
       "    </tr>\n",
       "  </thead>\n",
       "  <tbody>\n",
       "    <tr>\n",
       "      <th>0</th>\n",
       "      <td>https://cdn.pixabay.com/photo/2022/03/06/05/30...</td>\n",
       "      <td>Clouds, Sky Blue Atmosphere, Sky,</td>\n",
       "      <td>196</td>\n",
       "      <td>55</td>\n",
       "      <td>image_folder/clouds-7050884__480.jpg</td>\n",
       "    </tr>\n",
       "    <tr>\n",
       "      <th>1</th>\n",
       "      <td>https://cdn.pixabay.com/photo/2022/04/07/11/45...</td>\n",
       "      <td>Bird, Ornithology, Hummingbird</td>\n",
       "      <td>76</td>\n",
       "      <td>20</td>\n",
       "      <td>image_folder/bird-7117346__340.jpg</td>\n",
       "    </tr>\n",
       "    <tr>\n",
       "      <th>2</th>\n",
       "      <td>https://cdn.pixabay.com/photo/2022/02/28/15/28...</td>\n",
       "      <td>Sea, Subtropical Rainfall, Rainbow,</td>\n",
       "      <td>282</td>\n",
       "      <td>106</td>\n",
       "      <td>image_folder/sea-7039471__340.jpg</td>\n",
       "    </tr>\n",
       "    <tr>\n",
       "      <th>3</th>\n",
       "      <td>https://cdn.pixabay.com/photo/2022/04/04/02/52...</td>\n",
       "      <td>Sakura Road, Blossoms, Cherry Japan,</td>\n",
       "      <td>42</td>\n",
       "      <td>11</td>\n",
       "      <td>image_folder/cherry-blossoms-7110279__340.jpg</td>\n",
       "    </tr>\n",
       "    <tr>\n",
       "      <th>4</th>\n",
       "      <td>https://cdn.pixabay.com/photo/2022/04/09/18/06...</td>\n",
       "      <td>Plant Cape Marguerite, Flower,</td>\n",
       "      <td>39</td>\n",
       "      <td>15</td>\n",
       "      <td>image_folder/cape-marguerite-7121992__340.jpg</td>\n",
       "    </tr>\n",
       "    <tr>\n",
       "      <th>...</th>\n",
       "      <td>...</td>\n",
       "      <td>...</td>\n",
       "      <td>...</td>\n",
       "      <td>...</td>\n",
       "      <td>...</td>\n",
       "    </tr>\n",
       "    <tr>\n",
       "      <th>430</th>\n",
       "      <td>https://cdn.pixabay.com/photo/2022/02/21/21/18...</td>\n",
       "      <td>Animal, Rodent, Baby Daisy Mouse,</td>\n",
       "      <td>47</td>\n",
       "      <td>18</td>\n",
       "      <td>image_folder/animal-7027636__340.jpg</td>\n",
       "    </tr>\n",
       "    <tr>\n",
       "      <th>431</th>\n",
       "      <td>https://cdn.pixabay.com/photo/2021/10/05/16/53...</td>\n",
       "      <td>Shrine, Costume, Prayer, Worship Kimono,</td>\n",
       "      <td>62</td>\n",
       "      <td>9</td>\n",
       "      <td>image_folder/kimono-6683245__340.jpg</td>\n",
       "    </tr>\n",
       "    <tr>\n",
       "      <th>432</th>\n",
       "      <td>https://cdn.pixabay.com/photo/2022/01/10/15/30...</td>\n",
       "      <td>Castle, Star, Historical Fantasy, Night,</td>\n",
       "      <td>111</td>\n",
       "      <td>87</td>\n",
       "      <td>image_folder/castle-6928593__340.jpg</td>\n",
       "    </tr>\n",
       "    <tr>\n",
       "      <th>433</th>\n",
       "      <td>https://cdn.pixabay.com/photo/2022/03/31/09/50...</td>\n",
       "      <td>Blue, Abstract, Bright Arch, Background,</td>\n",
       "      <td>7</td>\n",
       "      <td>0</td>\n",
       "      <td>image_folder/abstract-7102657__480.jpg</td>\n",
       "    </tr>\n",
       "    <tr>\n",
       "      <th>434</th>\n",
       "      <td>https://cdn.pixabay.com/photo/2021/10/25/08/55...</td>\n",
       "      <td>Adventure Travel, Nature, Exploration,</td>\n",
       "      <td>58</td>\n",
       "      <td>7</td>\n",
       "      <td>image_folder/nature-6740243__340.jpg</td>\n",
       "    </tr>\n",
       "  </tbody>\n",
       "</table>\n",
       "<p>435 rows × 5 columns</p>\n",
       "</div>"
      ],
      "text/plain": [
       "                                                  link  \\\n",
       "0    https://cdn.pixabay.com/photo/2022/03/06/05/30...   \n",
       "1    https://cdn.pixabay.com/photo/2022/04/07/11/45...   \n",
       "2    https://cdn.pixabay.com/photo/2022/02/28/15/28...   \n",
       "3    https://cdn.pixabay.com/photo/2022/04/04/02/52...   \n",
       "4    https://cdn.pixabay.com/photo/2022/04/09/18/06...   \n",
       "..                                                 ...   \n",
       "430  https://cdn.pixabay.com/photo/2022/02/21/21/18...   \n",
       "431  https://cdn.pixabay.com/photo/2021/10/05/16/53...   \n",
       "432  https://cdn.pixabay.com/photo/2022/01/10/15/30...   \n",
       "433  https://cdn.pixabay.com/photo/2022/03/31/09/50...   \n",
       "434  https://cdn.pixabay.com/photo/2021/10/25/08/55...   \n",
       "\n",
       "                                         tags  likes  comments  \\\n",
       "0           Clouds, Sky Blue Atmosphere, Sky,    196        55   \n",
       "1              Bird, Ornithology, Hummingbird     76        20   \n",
       "2         Sea, Subtropical Rainfall, Rainbow,    282       106   \n",
       "3        Sakura Road, Blossoms, Cherry Japan,     42        11   \n",
       "4              Plant Cape Marguerite, Flower,     39        15   \n",
       "..                                        ...    ...       ...   \n",
       "430         Animal, Rodent, Baby Daisy Mouse,     47        18   \n",
       "431  Shrine, Costume, Prayer, Worship Kimono,     62         9   \n",
       "432  Castle, Star, Historical Fantasy, Night,    111        87   \n",
       "433  Blue, Abstract, Bright Arch, Background,      7         0   \n",
       "434    Adventure Travel, Nature, Exploration,     58         7   \n",
       "\n",
       "                                              path  \n",
       "0             image_folder/clouds-7050884__480.jpg  \n",
       "1               image_folder/bird-7117346__340.jpg  \n",
       "2                image_folder/sea-7039471__340.jpg  \n",
       "3    image_folder/cherry-blossoms-7110279__340.jpg  \n",
       "4    image_folder/cape-marguerite-7121992__340.jpg  \n",
       "..                                             ...  \n",
       "430           image_folder/animal-7027636__340.jpg  \n",
       "431           image_folder/kimono-6683245__340.jpg  \n",
       "432           image_folder/castle-6928593__340.jpg  \n",
       "433         image_folder/abstract-7102657__480.jpg  \n",
       "434           image_folder/nature-6740243__340.jpg  \n",
       "\n",
       "[435 rows x 5 columns]"
      ]
     },
     "execution_count": 165,
     "metadata": {},
     "output_type": "execute_result"
    }
   ],
   "source": [
    "df = pd.read_csv('stock_photo.csv')  # Importing that same data.csv into notebook\n",
    "df"
   ]
  },
  {
   "cell_type": "code",
   "execution_count": 168,
   "id": "3fb58cc7",
   "metadata": {},
   "outputs": [
    {
     "data": {
      "text/plain": [
       "count                                                   435\n",
       "unique                                                  434\n",
       "top       https://cdn.pixabay.com/photo/2022/04/10/19/28...\n",
       "freq                                                      2\n",
       "Name: link, dtype: object"
      ]
     },
     "execution_count": 168,
     "metadata": {},
     "output_type": "execute_result"
    }
   ],
   "source": [
    "df['link'].describe()"
   ]
  },
  {
   "cell_type": "code",
   "execution_count": 175,
   "id": "ac1640de",
   "metadata": {},
   "outputs": [
    {
     "data": {
      "text/plain": [
       "link        0\n",
       "tags        0\n",
       "likes       0\n",
       "comments    0\n",
       "path        0\n",
       "dtype: int64"
      ]
     },
     "execution_count": 175,
     "metadata": {},
     "output_type": "execute_result"
    }
   ],
   "source": [
    "# Checking null values in dataframe\n",
    "df.isnull().sum()"
   ]
  },
  {
   "cell_type": "code",
   "execution_count": 171,
   "id": "611f9bd9",
   "metadata": {},
   "outputs": [],
   "source": [
    "# Removing uplicates in dataframe\n",
    "df = df.drop_duplicates()"
   ]
  }
 ],
 "metadata": {
  "kernelspec": {
   "display_name": "Python 3 (ipykernel)",
   "language": "python",
   "name": "python3"
  },
  "language_info": {
   "codemirror_mode": {
    "name": "ipython",
    "version": 3
   },
   "file_extension": ".py",
   "mimetype": "text/x-python",
   "name": "python",
   "nbconvert_exporter": "python",
   "pygments_lexer": "ipython3",
   "version": "3.9.12"
  }
 },
 "nbformat": 4,
 "nbformat_minor": 5
}
