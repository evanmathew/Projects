{
 "cells": [
  {
   "cell_type": "markdown",
   "id": "d179f41f",
   "metadata": {},
   "source": [
    "# Wikepedia Scrapping through google search"
   ]
  },
  {
   "cell_type": "code",
   "execution_count": 2,
   "id": "b019066a",
   "metadata": {},
   "outputs": [],
   "source": [
    "import requests # To sent request to paticular website \n",
    "from bs4 import BeautifulSoup # parsing HTML and XML document"
   ]
  },
  {
   "cell_type": "code",
   "execution_count": 30,
   "id": "a00132f3",
   "metadata": {},
   "outputs": [
    {
     "name": "stdout",
     "output_type": "stream",
     "text": [
      "Enter the TopicEvan\n"
     ]
    }
   ],
   "source": [
    "title = str(input('Enter the Topic')).replace(' ','+') # Asking word / title / input that user want to scrap\n",
    "link = 'https://www.google.com/search?q=' + title + '+wikipedia' # link is generated \n",
    "res = requests.get(link)\n",
    "soup = BeautifulSoup(res.text,'html.parser') # Parsing HTML in google search page"
   ]
  },
  {
   "cell_type": "code",
   "execution_count": 31,
   "id": "aea9b974",
   "metadata": {},
   "outputs": [],
   "source": [
    "for sp in soup.find_all('div'): # Finding all the div tag in current html code\n",
    "    try:\n",
    "        link = sp.find('a').get('href') # Finding the First anchor tag in every div tag \n",
    "        if ('en.wikipedia.org' in link): # Finding first anchor tag which contains wikipedia link and break \n",
    "            break \n",
    "    except:\n",
    "        pass\n",
    "    \n",
    "link = link[7:].split('&')[0] \n",
    "\n",
    "# we got the final wikepedia link "
   ]
  },
  {
   "cell_type": "code",
   "execution_count": 32,
   "id": "6f0cbb4f",
   "metadata": {},
   "outputs": [],
   "source": [
    "\n",
    "res = requests.get(link)\n",
    "soup = BeautifulSoup(res.text,'html.parser')\n",
    "\n",
    "corpus = ''\n",
    "for i in soup.find_all('p'):\n",
    "    corpus += i.text\n",
    "    corpus += '\\n'\n",
    "corpus = corpus.strip()"
   ]
  },
  {
   "cell_type": "code",
   "execution_count": 33,
   "id": "99210e70",
   "metadata": {},
   "outputs": [
    {
     "name": "stdout",
     "output_type": "stream",
     "text": [
      "Evan is a Welsh given name derived from \"Iefan\", a Welsh form for the name John. In other languages it bears similarities to \"Ivan\", \"Ian\", and \"Juan\"; the name John itself is derived from the ancient Hebrew name יְהֹוחָנָן‎ Yəhôḥānān, which means \"Yahweh is gracious\". Evan can also be the shortened version of the Greek names \"Evangelos\" (meaning \"good messenger\") and \"Evander\" (meaning \"good man\"). While mostly male, the name is also given to women, as with actress Evan Rachel Wood, leading some to characterise it as unisex.[2] It may also be encountered as a surname, of which Evans is the most common version.\n",
      "\n",
      "Other languages also assign meaning to Evan as a word or name. It is related to the Gaelic word \"Eóghan\" meaning \"youth\" or \"young warrior\", and means \"right-handed\" in Scots.[3] Hebrew: אֶבֶן, romanized: even literally means \"rock\".\n",
      "\n",
      "The popularity of the name Evan in the United States had risen steadily in recent decades, going from the 440th-ranked male name in 1957 to peaking at the 35th-ranked male name in 2009. Immediately afterward, however, it began to decline precipitously, dropping out of the top 50 male names in the US by 2013 and out of the top 100 by 2020. Among American males in 2021, the name had less than a third of the popularity it had had in 2010.\n",
      "\n",
      "While Evan is still predominantly a male name, its use among girls has become increasingly common. Its use in both contexts started to rise in the late 1970s, but in contrast to the steep decline that Evan as a male name saw after 2009, the frequency of Evan as a female name more than tripled as a share of overall use in the same period. By 2021, the name had modestly increased in popularity above its usage in 2010 among American girls.\n"
     ]
    }
   ],
   "source": [
    "print(corpus)"
   ]
  },
  {
   "cell_type": "code",
   "execution_count": 34,
   "id": "ddff5800",
   "metadata": {},
   "outputs": [],
   "source": [
    "# Removing all the reference tag in every sentence ( eg. sentence start......sentence end[1])\n",
    "for i in range(3,357):\n",
    "    corpus = corpus.replace('['+str(i)+']','')"
   ]
  },
  {
   "cell_type": "code",
   "execution_count": 35,
   "id": "d845cfeb",
   "metadata": {},
   "outputs": [
    {
     "name": "stdout",
     "output_type": "stream",
     "text": [
      "Evan is a Welsh given name derived from \"Iefan\", a Welsh form for the name John. In other languages it bears similarities to \"Ivan\", \"Ian\", and \"Juan\"; the name John itself is derived from the ancient Hebrew name יְהֹוחָנָן‎ Yəhôḥānān, which means \"Yahweh is gracious\". Evan can also be the shortened version of the Greek names \"Evangelos\" (meaning \"good messenger\") and \"Evander\" (meaning \"good man\"). While mostly male, the name is also given to women, as with actress Evan Rachel Wood, leading some to characterise it as unisex.[2] It may also be encountered as a surname, of which Evans is the most common version.\n",
      "\n",
      "Other languages also assign meaning to Evan as a word or name. It is related to the Gaelic word \"Eóghan\" meaning \"youth\" or \"young warrior\", and means \"right-handed\" in Scots. Hebrew: אֶבֶן, romanized: even literally means \"rock\".\n",
      "\n",
      "The popularity of the name Evan in the United States had risen steadily in recent decades, going from the 440th-ranked male name in 1957 to peaking at the 35th-ranked male name in 2009. Immediately afterward, however, it began to decline precipitously, dropping out of the top 50 male names in the US by 2013 and out of the top 100 by 2020. Among American males in 2021, the name had less than a third of the popularity it had had in 2010.\n",
      "\n",
      "While Evan is still predominantly a male name, its use among girls has become increasingly common. Its use in both contexts started to rise in the late 1970s, but in contrast to the steep decline that Evan as a male name saw after 2009, the frequency of Evan as a female name more than tripled as a share of overall use in the same period. By 2021, the name had modestly increased in popularity above its usage in 2010 among American girls.\n"
     ]
    }
   ],
   "source": [
    "print(corpus)"
   ]
  }
 ],
 "metadata": {
  "kernelspec": {
   "display_name": "Python 3 (ipykernel)",
   "language": "python",
   "name": "python3"
  },
  "language_info": {
   "codemirror_mode": {
    "name": "ipython",
    "version": 3
   },
   "file_extension": ".py",
   "mimetype": "text/x-python",
   "name": "python",
   "nbconvert_exporter": "python",
   "pygments_lexer": "ipython3",
   "version": "3.9.12"
  }
 },
 "nbformat": 4,
 "nbformat_minor": 5
}
